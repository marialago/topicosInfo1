{
  "nbformat": 4,
  "nbformat_minor": 0,
  "metadata": {
    "colab": {
      "provenance": []
    },
    "kernelspec": {
      "name": "python3",
      "display_name": "Python 3"
    }
  },
  "cells": [
    {
      "cell_type": "markdown",
      "metadata": {
        "id": "raR-Du0JtUm9"
      },
      "source": [
        "## Carregando os Dados"
      ]
    },
    {
      "cell_type": "code",
      "metadata": {
        "colab": {
          "base_uri": "https://localhost:8080/",
          "height": 206
        },
        "id": "fXAXx3M_xSXh",
        "outputId": "e80146d8-2396-43a6-c0b4-ecf700a8d5a9"
      },
      "source": [
        "import pandas as pd\n",
        "\n",
        "dataset = pd.read_csv(\"https://raw.githubusercontent.com/ect-info/ml/master/dados/diabetes.csv\")\n",
        "dataset.head() "
      ],
      "execution_count": 44,
      "outputs": [
        {
          "output_type": "execute_result",
          "data": {
            "text/plain": [
              "   Pregnancies  Glucose  BloodPressure  SkinThickness  Insulin   BMI  \\\n",
              "0            6      148             72             35        0  33.6   \n",
              "1            1       85             66             29        0  26.6   \n",
              "2            8      183             64              0        0  23.3   \n",
              "3            1       89             66             23       94  28.1   \n",
              "4            0      137             40             35      168  43.1   \n",
              "\n",
              "   DiabetesPedigreeFunction  Age  Outcome  \n",
              "0                     0.627   50        1  \n",
              "1                     0.351   31        0  \n",
              "2                     0.672   32        1  \n",
              "3                     0.167   21        0  \n",
              "4                     2.288   33        1  "
            ],
            "text/html": [
              "\n",
              "  <div id=\"df-c04492e9-61ca-4c26-9621-33fe4577ba60\">\n",
              "    <div class=\"colab-df-container\">\n",
              "      <div>\n",
              "<style scoped>\n",
              "    .dataframe tbody tr th:only-of-type {\n",
              "        vertical-align: middle;\n",
              "    }\n",
              "\n",
              "    .dataframe tbody tr th {\n",
              "        vertical-align: top;\n",
              "    }\n",
              "\n",
              "    .dataframe thead th {\n",
              "        text-align: right;\n",
              "    }\n",
              "</style>\n",
              "<table border=\"1\" class=\"dataframe\">\n",
              "  <thead>\n",
              "    <tr style=\"text-align: right;\">\n",
              "      <th></th>\n",
              "      <th>Pregnancies</th>\n",
              "      <th>Glucose</th>\n",
              "      <th>BloodPressure</th>\n",
              "      <th>SkinThickness</th>\n",
              "      <th>Insulin</th>\n",
              "      <th>BMI</th>\n",
              "      <th>DiabetesPedigreeFunction</th>\n",
              "      <th>Age</th>\n",
              "      <th>Outcome</th>\n",
              "    </tr>\n",
              "  </thead>\n",
              "  <tbody>\n",
              "    <tr>\n",
              "      <th>0</th>\n",
              "      <td>6</td>\n",
              "      <td>148</td>\n",
              "      <td>72</td>\n",
              "      <td>35</td>\n",
              "      <td>0</td>\n",
              "      <td>33.6</td>\n",
              "      <td>0.627</td>\n",
              "      <td>50</td>\n",
              "      <td>1</td>\n",
              "    </tr>\n",
              "    <tr>\n",
              "      <th>1</th>\n",
              "      <td>1</td>\n",
              "      <td>85</td>\n",
              "      <td>66</td>\n",
              "      <td>29</td>\n",
              "      <td>0</td>\n",
              "      <td>26.6</td>\n",
              "      <td>0.351</td>\n",
              "      <td>31</td>\n",
              "      <td>0</td>\n",
              "    </tr>\n",
              "    <tr>\n",
              "      <th>2</th>\n",
              "      <td>8</td>\n",
              "      <td>183</td>\n",
              "      <td>64</td>\n",
              "      <td>0</td>\n",
              "      <td>0</td>\n",
              "      <td>23.3</td>\n",
              "      <td>0.672</td>\n",
              "      <td>32</td>\n",
              "      <td>1</td>\n",
              "    </tr>\n",
              "    <tr>\n",
              "      <th>3</th>\n",
              "      <td>1</td>\n",
              "      <td>89</td>\n",
              "      <td>66</td>\n",
              "      <td>23</td>\n",
              "      <td>94</td>\n",
              "      <td>28.1</td>\n",
              "      <td>0.167</td>\n",
              "      <td>21</td>\n",
              "      <td>0</td>\n",
              "    </tr>\n",
              "    <tr>\n",
              "      <th>4</th>\n",
              "      <td>0</td>\n",
              "      <td>137</td>\n",
              "      <td>40</td>\n",
              "      <td>35</td>\n",
              "      <td>168</td>\n",
              "      <td>43.1</td>\n",
              "      <td>2.288</td>\n",
              "      <td>33</td>\n",
              "      <td>1</td>\n",
              "    </tr>\n",
              "  </tbody>\n",
              "</table>\n",
              "</div>\n",
              "      <button class=\"colab-df-convert\" onclick=\"convertToInteractive('df-c04492e9-61ca-4c26-9621-33fe4577ba60')\"\n",
              "              title=\"Convert this dataframe to an interactive table.\"\n",
              "              style=\"display:none;\">\n",
              "        \n",
              "  <svg xmlns=\"http://www.w3.org/2000/svg\" height=\"24px\"viewBox=\"0 0 24 24\"\n",
              "       width=\"24px\">\n",
              "    <path d=\"M0 0h24v24H0V0z\" fill=\"none\"/>\n",
              "    <path d=\"M18.56 5.44l.94 2.06.94-2.06 2.06-.94-2.06-.94-.94-2.06-.94 2.06-2.06.94zm-11 1L8.5 8.5l.94-2.06 2.06-.94-2.06-.94L8.5 2.5l-.94 2.06-2.06.94zm10 10l.94 2.06.94-2.06 2.06-.94-2.06-.94-.94-2.06-.94 2.06-2.06.94z\"/><path d=\"M17.41 7.96l-1.37-1.37c-.4-.4-.92-.59-1.43-.59-.52 0-1.04.2-1.43.59L10.3 9.45l-7.72 7.72c-.78.78-.78 2.05 0 2.83L4 21.41c.39.39.9.59 1.41.59.51 0 1.02-.2 1.41-.59l7.78-7.78 2.81-2.81c.8-.78.8-2.07 0-2.86zM5.41 20L4 18.59l7.72-7.72 1.47 1.35L5.41 20z\"/>\n",
              "  </svg>\n",
              "      </button>\n",
              "      \n",
              "  <style>\n",
              "    .colab-df-container {\n",
              "      display:flex;\n",
              "      flex-wrap:wrap;\n",
              "      gap: 12px;\n",
              "    }\n",
              "\n",
              "    .colab-df-convert {\n",
              "      background-color: #E8F0FE;\n",
              "      border: none;\n",
              "      border-radius: 50%;\n",
              "      cursor: pointer;\n",
              "      display: none;\n",
              "      fill: #1967D2;\n",
              "      height: 32px;\n",
              "      padding: 0 0 0 0;\n",
              "      width: 32px;\n",
              "    }\n",
              "\n",
              "    .colab-df-convert:hover {\n",
              "      background-color: #E2EBFA;\n",
              "      box-shadow: 0px 1px 2px rgba(60, 64, 67, 0.3), 0px 1px 3px 1px rgba(60, 64, 67, 0.15);\n",
              "      fill: #174EA6;\n",
              "    }\n",
              "\n",
              "    [theme=dark] .colab-df-convert {\n",
              "      background-color: #3B4455;\n",
              "      fill: #D2E3FC;\n",
              "    }\n",
              "\n",
              "    [theme=dark] .colab-df-convert:hover {\n",
              "      background-color: #434B5C;\n",
              "      box-shadow: 0px 1px 3px 1px rgba(0, 0, 0, 0.15);\n",
              "      filter: drop-shadow(0px 1px 2px rgba(0, 0, 0, 0.3));\n",
              "      fill: #FFFFFF;\n",
              "    }\n",
              "  </style>\n",
              "\n",
              "      <script>\n",
              "        const buttonEl =\n",
              "          document.querySelector('#df-c04492e9-61ca-4c26-9621-33fe4577ba60 button.colab-df-convert');\n",
              "        buttonEl.style.display =\n",
              "          google.colab.kernel.accessAllowed ? 'block' : 'none';\n",
              "\n",
              "        async function convertToInteractive(key) {\n",
              "          const element = document.querySelector('#df-c04492e9-61ca-4c26-9621-33fe4577ba60');\n",
              "          const dataTable =\n",
              "            await google.colab.kernel.invokeFunction('convertToInteractive',\n",
              "                                                     [key], {});\n",
              "          if (!dataTable) return;\n",
              "\n",
              "          const docLinkHtml = 'Like what you see? Visit the ' +\n",
              "            '<a target=\"_blank\" href=https://colab.research.google.com/notebooks/data_table.ipynb>data table notebook</a>'\n",
              "            + ' to learn more about interactive tables.';\n",
              "          element.innerHTML = '';\n",
              "          dataTable['output_type'] = 'display_data';\n",
              "          await google.colab.output.renderOutput(dataTable, element);\n",
              "          const docLink = document.createElement('div');\n",
              "          docLink.innerHTML = docLinkHtml;\n",
              "          element.appendChild(docLink);\n",
              "        }\n",
              "      </script>\n",
              "    </div>\n",
              "  </div>\n",
              "  "
            ]
          },
          "metadata": {},
          "execution_count": 44
        }
      ]
    },
    {
      "cell_type": "code",
      "metadata": {
        "colab": {
          "base_uri": "https://localhost:8080/",
          "height": 300
        },
        "id": "CSUDQDKlxVFi",
        "outputId": "924ab8f1-0f1e-43aa-a2c9-3e2b9e9eba53"
      },
      "source": [
        "dataset.describe()"
      ],
      "execution_count": 45,
      "outputs": [
        {
          "output_type": "execute_result",
          "data": {
            "text/plain": [
              "       Pregnancies     Glucose  BloodPressure  SkinThickness     Insulin  \\\n",
              "count   768.000000  768.000000     768.000000     768.000000  768.000000   \n",
              "mean      3.845052  120.894531      69.105469      20.536458   79.799479   \n",
              "std       3.369578   31.972618      19.355807      15.952218  115.244002   \n",
              "min       0.000000    0.000000       0.000000       0.000000    0.000000   \n",
              "25%       1.000000   99.000000      62.000000       0.000000    0.000000   \n",
              "50%       3.000000  117.000000      72.000000      23.000000   30.500000   \n",
              "75%       6.000000  140.250000      80.000000      32.000000  127.250000   \n",
              "max      17.000000  199.000000     122.000000      99.000000  846.000000   \n",
              "\n",
              "              BMI  DiabetesPedigreeFunction         Age     Outcome  \n",
              "count  768.000000                768.000000  768.000000  768.000000  \n",
              "mean    31.992578                  0.471876   33.240885    0.348958  \n",
              "std      7.884160                  0.331329   11.760232    0.476951  \n",
              "min      0.000000                  0.078000   21.000000    0.000000  \n",
              "25%     27.300000                  0.243750   24.000000    0.000000  \n",
              "50%     32.000000                  0.372500   29.000000    0.000000  \n",
              "75%     36.600000                  0.626250   41.000000    1.000000  \n",
              "max     67.100000                  2.420000   81.000000    1.000000  "
            ],
            "text/html": [
              "\n",
              "  <div id=\"df-a8ffadc2-a0be-4965-ace6-58f34b1f5af6\">\n",
              "    <div class=\"colab-df-container\">\n",
              "      <div>\n",
              "<style scoped>\n",
              "    .dataframe tbody tr th:only-of-type {\n",
              "        vertical-align: middle;\n",
              "    }\n",
              "\n",
              "    .dataframe tbody tr th {\n",
              "        vertical-align: top;\n",
              "    }\n",
              "\n",
              "    .dataframe thead th {\n",
              "        text-align: right;\n",
              "    }\n",
              "</style>\n",
              "<table border=\"1\" class=\"dataframe\">\n",
              "  <thead>\n",
              "    <tr style=\"text-align: right;\">\n",
              "      <th></th>\n",
              "      <th>Pregnancies</th>\n",
              "      <th>Glucose</th>\n",
              "      <th>BloodPressure</th>\n",
              "      <th>SkinThickness</th>\n",
              "      <th>Insulin</th>\n",
              "      <th>BMI</th>\n",
              "      <th>DiabetesPedigreeFunction</th>\n",
              "      <th>Age</th>\n",
              "      <th>Outcome</th>\n",
              "    </tr>\n",
              "  </thead>\n",
              "  <tbody>\n",
              "    <tr>\n",
              "      <th>count</th>\n",
              "      <td>768.000000</td>\n",
              "      <td>768.000000</td>\n",
              "      <td>768.000000</td>\n",
              "      <td>768.000000</td>\n",
              "      <td>768.000000</td>\n",
              "      <td>768.000000</td>\n",
              "      <td>768.000000</td>\n",
              "      <td>768.000000</td>\n",
              "      <td>768.000000</td>\n",
              "    </tr>\n",
              "    <tr>\n",
              "      <th>mean</th>\n",
              "      <td>3.845052</td>\n",
              "      <td>120.894531</td>\n",
              "      <td>69.105469</td>\n",
              "      <td>20.536458</td>\n",
              "      <td>79.799479</td>\n",
              "      <td>31.992578</td>\n",
              "      <td>0.471876</td>\n",
              "      <td>33.240885</td>\n",
              "      <td>0.348958</td>\n",
              "    </tr>\n",
              "    <tr>\n",
              "      <th>std</th>\n",
              "      <td>3.369578</td>\n",
              "      <td>31.972618</td>\n",
              "      <td>19.355807</td>\n",
              "      <td>15.952218</td>\n",
              "      <td>115.244002</td>\n",
              "      <td>7.884160</td>\n",
              "      <td>0.331329</td>\n",
              "      <td>11.760232</td>\n",
              "      <td>0.476951</td>\n",
              "    </tr>\n",
              "    <tr>\n",
              "      <th>min</th>\n",
              "      <td>0.000000</td>\n",
              "      <td>0.000000</td>\n",
              "      <td>0.000000</td>\n",
              "      <td>0.000000</td>\n",
              "      <td>0.000000</td>\n",
              "      <td>0.000000</td>\n",
              "      <td>0.078000</td>\n",
              "      <td>21.000000</td>\n",
              "      <td>0.000000</td>\n",
              "    </tr>\n",
              "    <tr>\n",
              "      <th>25%</th>\n",
              "      <td>1.000000</td>\n",
              "      <td>99.000000</td>\n",
              "      <td>62.000000</td>\n",
              "      <td>0.000000</td>\n",
              "      <td>0.000000</td>\n",
              "      <td>27.300000</td>\n",
              "      <td>0.243750</td>\n",
              "      <td>24.000000</td>\n",
              "      <td>0.000000</td>\n",
              "    </tr>\n",
              "    <tr>\n",
              "      <th>50%</th>\n",
              "      <td>3.000000</td>\n",
              "      <td>117.000000</td>\n",
              "      <td>72.000000</td>\n",
              "      <td>23.000000</td>\n",
              "      <td>30.500000</td>\n",
              "      <td>32.000000</td>\n",
              "      <td>0.372500</td>\n",
              "      <td>29.000000</td>\n",
              "      <td>0.000000</td>\n",
              "    </tr>\n",
              "    <tr>\n",
              "      <th>75%</th>\n",
              "      <td>6.000000</td>\n",
              "      <td>140.250000</td>\n",
              "      <td>80.000000</td>\n",
              "      <td>32.000000</td>\n",
              "      <td>127.250000</td>\n",
              "      <td>36.600000</td>\n",
              "      <td>0.626250</td>\n",
              "      <td>41.000000</td>\n",
              "      <td>1.000000</td>\n",
              "    </tr>\n",
              "    <tr>\n",
              "      <th>max</th>\n",
              "      <td>17.000000</td>\n",
              "      <td>199.000000</td>\n",
              "      <td>122.000000</td>\n",
              "      <td>99.000000</td>\n",
              "      <td>846.000000</td>\n",
              "      <td>67.100000</td>\n",
              "      <td>2.420000</td>\n",
              "      <td>81.000000</td>\n",
              "      <td>1.000000</td>\n",
              "    </tr>\n",
              "  </tbody>\n",
              "</table>\n",
              "</div>\n",
              "      <button class=\"colab-df-convert\" onclick=\"convertToInteractive('df-a8ffadc2-a0be-4965-ace6-58f34b1f5af6')\"\n",
              "              title=\"Convert this dataframe to an interactive table.\"\n",
              "              style=\"display:none;\">\n",
              "        \n",
              "  <svg xmlns=\"http://www.w3.org/2000/svg\" height=\"24px\"viewBox=\"0 0 24 24\"\n",
              "       width=\"24px\">\n",
              "    <path d=\"M0 0h24v24H0V0z\" fill=\"none\"/>\n",
              "    <path d=\"M18.56 5.44l.94 2.06.94-2.06 2.06-.94-2.06-.94-.94-2.06-.94 2.06-2.06.94zm-11 1L8.5 8.5l.94-2.06 2.06-.94-2.06-.94L8.5 2.5l-.94 2.06-2.06.94zm10 10l.94 2.06.94-2.06 2.06-.94-2.06-.94-.94-2.06-.94 2.06-2.06.94z\"/><path d=\"M17.41 7.96l-1.37-1.37c-.4-.4-.92-.59-1.43-.59-.52 0-1.04.2-1.43.59L10.3 9.45l-7.72 7.72c-.78.78-.78 2.05 0 2.83L4 21.41c.39.39.9.59 1.41.59.51 0 1.02-.2 1.41-.59l7.78-7.78 2.81-2.81c.8-.78.8-2.07 0-2.86zM5.41 20L4 18.59l7.72-7.72 1.47 1.35L5.41 20z\"/>\n",
              "  </svg>\n",
              "      </button>\n",
              "      \n",
              "  <style>\n",
              "    .colab-df-container {\n",
              "      display:flex;\n",
              "      flex-wrap:wrap;\n",
              "      gap: 12px;\n",
              "    }\n",
              "\n",
              "    .colab-df-convert {\n",
              "      background-color: #E8F0FE;\n",
              "      border: none;\n",
              "      border-radius: 50%;\n",
              "      cursor: pointer;\n",
              "      display: none;\n",
              "      fill: #1967D2;\n",
              "      height: 32px;\n",
              "      padding: 0 0 0 0;\n",
              "      width: 32px;\n",
              "    }\n",
              "\n",
              "    .colab-df-convert:hover {\n",
              "      background-color: #E2EBFA;\n",
              "      box-shadow: 0px 1px 2px rgba(60, 64, 67, 0.3), 0px 1px 3px 1px rgba(60, 64, 67, 0.15);\n",
              "      fill: #174EA6;\n",
              "    }\n",
              "\n",
              "    [theme=dark] .colab-df-convert {\n",
              "      background-color: #3B4455;\n",
              "      fill: #D2E3FC;\n",
              "    }\n",
              "\n",
              "    [theme=dark] .colab-df-convert:hover {\n",
              "      background-color: #434B5C;\n",
              "      box-shadow: 0px 1px 3px 1px rgba(0, 0, 0, 0.15);\n",
              "      filter: drop-shadow(0px 1px 2px rgba(0, 0, 0, 0.3));\n",
              "      fill: #FFFFFF;\n",
              "    }\n",
              "  </style>\n",
              "\n",
              "      <script>\n",
              "        const buttonEl =\n",
              "          document.querySelector('#df-a8ffadc2-a0be-4965-ace6-58f34b1f5af6 button.colab-df-convert');\n",
              "        buttonEl.style.display =\n",
              "          google.colab.kernel.accessAllowed ? 'block' : 'none';\n",
              "\n",
              "        async function convertToInteractive(key) {\n",
              "          const element = document.querySelector('#df-a8ffadc2-a0be-4965-ace6-58f34b1f5af6');\n",
              "          const dataTable =\n",
              "            await google.colab.kernel.invokeFunction('convertToInteractive',\n",
              "                                                     [key], {});\n",
              "          if (!dataTable) return;\n",
              "\n",
              "          const docLinkHtml = 'Like what you see? Visit the ' +\n",
              "            '<a target=\"_blank\" href=https://colab.research.google.com/notebooks/data_table.ipynb>data table notebook</a>'\n",
              "            + ' to learn more about interactive tables.';\n",
              "          element.innerHTML = '';\n",
              "          dataTable['output_type'] = 'display_data';\n",
              "          await google.colab.output.renderOutput(dataTable, element);\n",
              "          const docLink = document.createElement('div');\n",
              "          docLink.innerHTML = docLinkHtml;\n",
              "          element.appendChild(docLink);\n",
              "        }\n",
              "      </script>\n",
              "    </div>\n",
              "  </div>\n",
              "  "
            ]
          },
          "metadata": {},
          "execution_count": 45
        }
      ]
    },
    {
      "cell_type": "code",
      "source": [
        "dataset.corr()"
      ],
      "metadata": {
        "colab": {
          "base_uri": "https://localhost:8080/",
          "height": 332
        },
        "id": "yKcmbvsg_OSQ",
        "outputId": "bb7e90d2-189b-4473-f425-8fa9a2e9a783"
      },
      "execution_count": 46,
      "outputs": [
        {
          "output_type": "execute_result",
          "data": {
            "text/plain": [
              "                          Pregnancies   Glucose  BloodPressure  SkinThickness  \\\n",
              "Pregnancies                  1.000000  0.129459       0.141282      -0.081672   \n",
              "Glucose                      0.129459  1.000000       0.152590       0.057328   \n",
              "BloodPressure                0.141282  0.152590       1.000000       0.207371   \n",
              "SkinThickness               -0.081672  0.057328       0.207371       1.000000   \n",
              "Insulin                     -0.073535  0.331357       0.088933       0.436783   \n",
              "BMI                          0.017683  0.221071       0.281805       0.392573   \n",
              "DiabetesPedigreeFunction    -0.033523  0.137337       0.041265       0.183928   \n",
              "Age                          0.544341  0.263514       0.239528      -0.113970   \n",
              "Outcome                      0.221898  0.466581       0.065068       0.074752   \n",
              "\n",
              "                           Insulin       BMI  DiabetesPedigreeFunction  \\\n",
              "Pregnancies              -0.073535  0.017683                 -0.033523   \n",
              "Glucose                   0.331357  0.221071                  0.137337   \n",
              "BloodPressure             0.088933  0.281805                  0.041265   \n",
              "SkinThickness             0.436783  0.392573                  0.183928   \n",
              "Insulin                   1.000000  0.197859                  0.185071   \n",
              "BMI                       0.197859  1.000000                  0.140647   \n",
              "DiabetesPedigreeFunction  0.185071  0.140647                  1.000000   \n",
              "Age                      -0.042163  0.036242                  0.033561   \n",
              "Outcome                   0.130548  0.292695                  0.173844   \n",
              "\n",
              "                               Age   Outcome  \n",
              "Pregnancies               0.544341  0.221898  \n",
              "Glucose                   0.263514  0.466581  \n",
              "BloodPressure             0.239528  0.065068  \n",
              "SkinThickness            -0.113970  0.074752  \n",
              "Insulin                  -0.042163  0.130548  \n",
              "BMI                       0.036242  0.292695  \n",
              "DiabetesPedigreeFunction  0.033561  0.173844  \n",
              "Age                       1.000000  0.238356  \n",
              "Outcome                   0.238356  1.000000  "
            ],
            "text/html": [
              "\n",
              "  <div id=\"df-29617174-9c6d-4ca9-8458-24f6cfdb72fa\">\n",
              "    <div class=\"colab-df-container\">\n",
              "      <div>\n",
              "<style scoped>\n",
              "    .dataframe tbody tr th:only-of-type {\n",
              "        vertical-align: middle;\n",
              "    }\n",
              "\n",
              "    .dataframe tbody tr th {\n",
              "        vertical-align: top;\n",
              "    }\n",
              "\n",
              "    .dataframe thead th {\n",
              "        text-align: right;\n",
              "    }\n",
              "</style>\n",
              "<table border=\"1\" class=\"dataframe\">\n",
              "  <thead>\n",
              "    <tr style=\"text-align: right;\">\n",
              "      <th></th>\n",
              "      <th>Pregnancies</th>\n",
              "      <th>Glucose</th>\n",
              "      <th>BloodPressure</th>\n",
              "      <th>SkinThickness</th>\n",
              "      <th>Insulin</th>\n",
              "      <th>BMI</th>\n",
              "      <th>DiabetesPedigreeFunction</th>\n",
              "      <th>Age</th>\n",
              "      <th>Outcome</th>\n",
              "    </tr>\n",
              "  </thead>\n",
              "  <tbody>\n",
              "    <tr>\n",
              "      <th>Pregnancies</th>\n",
              "      <td>1.000000</td>\n",
              "      <td>0.129459</td>\n",
              "      <td>0.141282</td>\n",
              "      <td>-0.081672</td>\n",
              "      <td>-0.073535</td>\n",
              "      <td>0.017683</td>\n",
              "      <td>-0.033523</td>\n",
              "      <td>0.544341</td>\n",
              "      <td>0.221898</td>\n",
              "    </tr>\n",
              "    <tr>\n",
              "      <th>Glucose</th>\n",
              "      <td>0.129459</td>\n",
              "      <td>1.000000</td>\n",
              "      <td>0.152590</td>\n",
              "      <td>0.057328</td>\n",
              "      <td>0.331357</td>\n",
              "      <td>0.221071</td>\n",
              "      <td>0.137337</td>\n",
              "      <td>0.263514</td>\n",
              "      <td>0.466581</td>\n",
              "    </tr>\n",
              "    <tr>\n",
              "      <th>BloodPressure</th>\n",
              "      <td>0.141282</td>\n",
              "      <td>0.152590</td>\n",
              "      <td>1.000000</td>\n",
              "      <td>0.207371</td>\n",
              "      <td>0.088933</td>\n",
              "      <td>0.281805</td>\n",
              "      <td>0.041265</td>\n",
              "      <td>0.239528</td>\n",
              "      <td>0.065068</td>\n",
              "    </tr>\n",
              "    <tr>\n",
              "      <th>SkinThickness</th>\n",
              "      <td>-0.081672</td>\n",
              "      <td>0.057328</td>\n",
              "      <td>0.207371</td>\n",
              "      <td>1.000000</td>\n",
              "      <td>0.436783</td>\n",
              "      <td>0.392573</td>\n",
              "      <td>0.183928</td>\n",
              "      <td>-0.113970</td>\n",
              "      <td>0.074752</td>\n",
              "    </tr>\n",
              "    <tr>\n",
              "      <th>Insulin</th>\n",
              "      <td>-0.073535</td>\n",
              "      <td>0.331357</td>\n",
              "      <td>0.088933</td>\n",
              "      <td>0.436783</td>\n",
              "      <td>1.000000</td>\n",
              "      <td>0.197859</td>\n",
              "      <td>0.185071</td>\n",
              "      <td>-0.042163</td>\n",
              "      <td>0.130548</td>\n",
              "    </tr>\n",
              "    <tr>\n",
              "      <th>BMI</th>\n",
              "      <td>0.017683</td>\n",
              "      <td>0.221071</td>\n",
              "      <td>0.281805</td>\n",
              "      <td>0.392573</td>\n",
              "      <td>0.197859</td>\n",
              "      <td>1.000000</td>\n",
              "      <td>0.140647</td>\n",
              "      <td>0.036242</td>\n",
              "      <td>0.292695</td>\n",
              "    </tr>\n",
              "    <tr>\n",
              "      <th>DiabetesPedigreeFunction</th>\n",
              "      <td>-0.033523</td>\n",
              "      <td>0.137337</td>\n",
              "      <td>0.041265</td>\n",
              "      <td>0.183928</td>\n",
              "      <td>0.185071</td>\n",
              "      <td>0.140647</td>\n",
              "      <td>1.000000</td>\n",
              "      <td>0.033561</td>\n",
              "      <td>0.173844</td>\n",
              "    </tr>\n",
              "    <tr>\n",
              "      <th>Age</th>\n",
              "      <td>0.544341</td>\n",
              "      <td>0.263514</td>\n",
              "      <td>0.239528</td>\n",
              "      <td>-0.113970</td>\n",
              "      <td>-0.042163</td>\n",
              "      <td>0.036242</td>\n",
              "      <td>0.033561</td>\n",
              "      <td>1.000000</td>\n",
              "      <td>0.238356</td>\n",
              "    </tr>\n",
              "    <tr>\n",
              "      <th>Outcome</th>\n",
              "      <td>0.221898</td>\n",
              "      <td>0.466581</td>\n",
              "      <td>0.065068</td>\n",
              "      <td>0.074752</td>\n",
              "      <td>0.130548</td>\n",
              "      <td>0.292695</td>\n",
              "      <td>0.173844</td>\n",
              "      <td>0.238356</td>\n",
              "      <td>1.000000</td>\n",
              "    </tr>\n",
              "  </tbody>\n",
              "</table>\n",
              "</div>\n",
              "      <button class=\"colab-df-convert\" onclick=\"convertToInteractive('df-29617174-9c6d-4ca9-8458-24f6cfdb72fa')\"\n",
              "              title=\"Convert this dataframe to an interactive table.\"\n",
              "              style=\"display:none;\">\n",
              "        \n",
              "  <svg xmlns=\"http://www.w3.org/2000/svg\" height=\"24px\"viewBox=\"0 0 24 24\"\n",
              "       width=\"24px\">\n",
              "    <path d=\"M0 0h24v24H0V0z\" fill=\"none\"/>\n",
              "    <path d=\"M18.56 5.44l.94 2.06.94-2.06 2.06-.94-2.06-.94-.94-2.06-.94 2.06-2.06.94zm-11 1L8.5 8.5l.94-2.06 2.06-.94-2.06-.94L8.5 2.5l-.94 2.06-2.06.94zm10 10l.94 2.06.94-2.06 2.06-.94-2.06-.94-.94-2.06-.94 2.06-2.06.94z\"/><path d=\"M17.41 7.96l-1.37-1.37c-.4-.4-.92-.59-1.43-.59-.52 0-1.04.2-1.43.59L10.3 9.45l-7.72 7.72c-.78.78-.78 2.05 0 2.83L4 21.41c.39.39.9.59 1.41.59.51 0 1.02-.2 1.41-.59l7.78-7.78 2.81-2.81c.8-.78.8-2.07 0-2.86zM5.41 20L4 18.59l7.72-7.72 1.47 1.35L5.41 20z\"/>\n",
              "  </svg>\n",
              "      </button>\n",
              "      \n",
              "  <style>\n",
              "    .colab-df-container {\n",
              "      display:flex;\n",
              "      flex-wrap:wrap;\n",
              "      gap: 12px;\n",
              "    }\n",
              "\n",
              "    .colab-df-convert {\n",
              "      background-color: #E8F0FE;\n",
              "      border: none;\n",
              "      border-radius: 50%;\n",
              "      cursor: pointer;\n",
              "      display: none;\n",
              "      fill: #1967D2;\n",
              "      height: 32px;\n",
              "      padding: 0 0 0 0;\n",
              "      width: 32px;\n",
              "    }\n",
              "\n",
              "    .colab-df-convert:hover {\n",
              "      background-color: #E2EBFA;\n",
              "      box-shadow: 0px 1px 2px rgba(60, 64, 67, 0.3), 0px 1px 3px 1px rgba(60, 64, 67, 0.15);\n",
              "      fill: #174EA6;\n",
              "    }\n",
              "\n",
              "    [theme=dark] .colab-df-convert {\n",
              "      background-color: #3B4455;\n",
              "      fill: #D2E3FC;\n",
              "    }\n",
              "\n",
              "    [theme=dark] .colab-df-convert:hover {\n",
              "      background-color: #434B5C;\n",
              "      box-shadow: 0px 1px 3px 1px rgba(0, 0, 0, 0.15);\n",
              "      filter: drop-shadow(0px 1px 2px rgba(0, 0, 0, 0.3));\n",
              "      fill: #FFFFFF;\n",
              "    }\n",
              "  </style>\n",
              "\n",
              "      <script>\n",
              "        const buttonEl =\n",
              "          document.querySelector('#df-29617174-9c6d-4ca9-8458-24f6cfdb72fa button.colab-df-convert');\n",
              "        buttonEl.style.display =\n",
              "          google.colab.kernel.accessAllowed ? 'block' : 'none';\n",
              "\n",
              "        async function convertToInteractive(key) {\n",
              "          const element = document.querySelector('#df-29617174-9c6d-4ca9-8458-24f6cfdb72fa');\n",
              "          const dataTable =\n",
              "            await google.colab.kernel.invokeFunction('convertToInteractive',\n",
              "                                                     [key], {});\n",
              "          if (!dataTable) return;\n",
              "\n",
              "          const docLinkHtml = 'Like what you see? Visit the ' +\n",
              "            '<a target=\"_blank\" href=https://colab.research.google.com/notebooks/data_table.ipynb>data table notebook</a>'\n",
              "            + ' to learn more about interactive tables.';\n",
              "          element.innerHTML = '';\n",
              "          dataTable['output_type'] = 'display_data';\n",
              "          await google.colab.output.renderOutput(dataTable, element);\n",
              "          const docLink = document.createElement('div');\n",
              "          docLink.innerHTML = docLinkHtml;\n",
              "          element.appendChild(docLink);\n",
              "        }\n",
              "      </script>\n",
              "    </div>\n",
              "  </div>\n",
              "  "
            ]
          },
          "metadata": {},
          "execution_count": 46
        }
      ]
    },
    {
      "cell_type": "markdown",
      "metadata": {
        "id": "bvkgKkrNtdkc"
      },
      "source": [
        "## Escolhendo atributos \n",
        "* Idade e IMC\n"
      ]
    },
    {
      "cell_type": "code",
      "metadata": {
        "colab": {
          "base_uri": "https://localhost:8080/"
        },
        "id": "mCsQOJG0tiBk",
        "outputId": "e1066daf-f2e8-45bd-93df-366810e9d0f6"
      },
      "source": [
        "X = dataset.loc[:,['Age','BMI']].values\n",
        "# ou \n",
        "# X = dataset.iloc[:,2:4].values\n",
        "\n",
        "y = dataset['Outcome'].values\n",
        "\n",
        "print(X[0:8,:])"
      ],
      "execution_count": 47,
      "outputs": [
        {
          "output_type": "stream",
          "name": "stdout",
          "text": [
            "[[50.  33.6]\n",
            " [31.  26.6]\n",
            " [32.  23.3]\n",
            " [21.  28.1]\n",
            " [33.  43.1]\n",
            " [30.  25.6]\n",
            " [26.  31. ]\n",
            " [29.  35.3]]\n"
          ]
        }
      ]
    },
    {
      "cell_type": "markdown",
      "metadata": {
        "id": "eLqqez01ti9S"
      },
      "source": [
        "## Separando entre conjuntos de treinamento e teste"
      ]
    },
    {
      "cell_type": "code",
      "metadata": {
        "id": "2XyAc1qfxgLg"
      },
      "source": [
        "from sklearn.model_selection import train_test_split\n",
        "X_train, X_test, y_train, y_test = train_test_split(X, y, test_size = 0.25, random_state = 0)"
      ],
      "execution_count": 48,
      "outputs": []
    },
    {
      "cell_type": "markdown",
      "metadata": {
        "id": "zAMBa9kCtnJx"
      },
      "source": [
        "## Normalização \n",
        "* A amplitude de variação dos dados nos atributos idade e salário são bem diferentes\n",
        "* Permite que a faixa de variação seja equilibrada entre os diferentes atributos \n",
        "* Muitos algoritmos de aprendizado de máquinas são sensíveis a atribuitos com aplitude de valores muito distintos \n",
        "* Vídeo com explicações: https://youtu.be/kIeXOC-Rnb4 "
      ]
    },
    {
      "cell_type": "code",
      "metadata": {
        "id": "y5ECQ8Lex9HI"
      },
      "source": [
        "# Fonte: https://scikit-learn.org/stable/modules/generated/sklearn.preprocessing.MinMaxScaler.html \n",
        "from sklearn.preprocessing import MinMaxScaler\n",
        "sc = MinMaxScaler()\n",
        "X_train = sc.fit_transform(X_train)\n",
        "\n",
        "X_test = sc.transform(X_test)"
      ],
      "execution_count": 49,
      "outputs": []
    },
    {
      "cell_type": "markdown",
      "metadata": {
        "id": "4bhtTMQvuBpb"
      },
      "source": [
        "## Treinamento"
      ]
    },
    {
      "cell_type": "code",
      "metadata": {
        "id": "P6obz58GpVv5"
      },
      "source": [
        "import tensorflow as tf"
      ],
      "execution_count": 50,
      "outputs": []
    },
    {
      "cell_type": "markdown",
      "metadata": {
        "id": "-1bKkRC2yy0z"
      },
      "source": [
        "### Construíndo a estrutra da rede \n",
        "* Arquitetura "
      ]
    },
    {
      "cell_type": "code",
      "metadata": {
        "id": "R9vP1Ex8y30o"
      },
      "source": [
        "# Inicialização \n",
        "classifier = tf.keras.models.Sequential()\n",
        "\n",
        "# Adicionando a camada de entrada e a primeira camada escondida  \n",
        "classifier.add( tf.keras.layers.Dense( activation = 'relu', input_dim = 2, units = 4, kernel_initializer = 'uniform'))\n",
        "\n",
        "# Adicionando a camada de saída \n",
        "classifier.add( tf.keras.layers.Dense( activation = 'sigmoid', units = 1, kernel_initializer = 'uniform'))"
      ],
      "execution_count": 51,
      "outputs": []
    },
    {
      "cell_type": "code",
      "metadata": {
        "id": "32rUQq_UzJSp"
      },
      "source": [
        "# Montando a Rede \n",
        "classifier.compile(optimizer = 'adam', loss = 'binary_crossentropy', metrics = ['accuracy'])"
      ],
      "execution_count": 52,
      "outputs": []
    },
    {
      "cell_type": "markdown",
      "metadata": {
        "id": "c0Yc3mkBzMwT"
      },
      "source": [
        "### Executando o treinamento "
      ]
    },
    {
      "cell_type": "code",
      "metadata": {
        "colab": {
          "base_uri": "https://localhost:8080/"
        },
        "id": "0X18WMBQzSGA",
        "outputId": "c7a58d3f-9e29-40fb-ee62-dabdefd19b28"
      },
      "source": [
        "classifier.fit(X_train, y_train, batch_size = 1, epochs = 81)"
      ],
      "execution_count": 53,
      "outputs": [
        {
          "output_type": "stream",
          "name": "stdout",
          "text": [
            "Epoch 1/81\n",
            "576/576 [==============================] - 2s 2ms/step - loss: 0.6817 - accuracy: 0.6424\n",
            "Epoch 2/81\n",
            "576/576 [==============================] - 1s 2ms/step - loss: 0.6641 - accuracy: 0.6424\n",
            "Epoch 3/81\n",
            "576/576 [==============================] - 2s 3ms/step - loss: 0.6564 - accuracy: 0.6424\n",
            "Epoch 4/81\n",
            "576/576 [==============================] - 1s 2ms/step - loss: 0.6534 - accuracy: 0.6424\n",
            "Epoch 5/81\n",
            "576/576 [==============================] - 1s 2ms/step - loss: 0.6518 - accuracy: 0.6424\n",
            "Epoch 6/81\n",
            "576/576 [==============================] - 1s 2ms/step - loss: 0.6501 - accuracy: 0.6424\n",
            "Epoch 7/81\n",
            "576/576 [==============================] - 1s 2ms/step - loss: 0.6486 - accuracy: 0.6424\n",
            "Epoch 8/81\n",
            "576/576 [==============================] - 1s 2ms/step - loss: 0.6469 - accuracy: 0.6424\n",
            "Epoch 9/81\n",
            "576/576 [==============================] - 1s 2ms/step - loss: 0.6449 - accuracy: 0.6424\n",
            "Epoch 10/81\n",
            "576/576 [==============================] - 1s 2ms/step - loss: 0.6426 - accuracy: 0.6424\n",
            "Epoch 11/81\n",
            "576/576 [==============================] - 1s 2ms/step - loss: 0.6401 - accuracy: 0.6424\n",
            "Epoch 12/81\n",
            "576/576 [==============================] - 1s 2ms/step - loss: 0.6372 - accuracy: 0.6424\n",
            "Epoch 13/81\n",
            "576/576 [==============================] - 1s 2ms/step - loss: 0.6345 - accuracy: 0.6424\n",
            "Epoch 14/81\n",
            "576/576 [==============================] - 1s 2ms/step - loss: 0.6315 - accuracy: 0.6424\n",
            "Epoch 15/81\n",
            "576/576 [==============================] - 2s 3ms/step - loss: 0.6291 - accuracy: 0.6424\n",
            "Epoch 16/81\n",
            "576/576 [==============================] - 1s 2ms/step - loss: 0.6260 - accuracy: 0.6424\n",
            "Epoch 17/81\n",
            "576/576 [==============================] - 1s 2ms/step - loss: 0.6231 - accuracy: 0.6424\n",
            "Epoch 18/81\n",
            "576/576 [==============================] - 1s 2ms/step - loss: 0.6202 - accuracy: 0.6424\n",
            "Epoch 19/81\n",
            "576/576 [==============================] - 1s 2ms/step - loss: 0.6174 - accuracy: 0.6424\n",
            "Epoch 20/81\n",
            "576/576 [==============================] - 1s 2ms/step - loss: 0.6147 - accuracy: 0.6424\n",
            "Epoch 21/81\n",
            "576/576 [==============================] - 1s 2ms/step - loss: 0.6120 - accuracy: 0.6424\n",
            "Epoch 22/81\n",
            "576/576 [==============================] - 1s 2ms/step - loss: 0.6094 - accuracy: 0.6424\n",
            "Epoch 23/81\n",
            "576/576 [==============================] - 1s 2ms/step - loss: 0.6073 - accuracy: 0.6424\n",
            "Epoch 24/81\n",
            "576/576 [==============================] - 1s 2ms/step - loss: 0.6047 - accuracy: 0.6424\n",
            "Epoch 25/81\n",
            "576/576 [==============================] - 2s 4ms/step - loss: 0.6027 - accuracy: 0.6424\n",
            "Epoch 26/81\n",
            "576/576 [==============================] - 2s 3ms/step - loss: 0.6003 - accuracy: 0.6424\n",
            "Epoch 27/81\n",
            "576/576 [==============================] - 1s 2ms/step - loss: 0.5985 - accuracy: 0.6424\n",
            "Epoch 28/81\n",
            "576/576 [==============================] - 1s 2ms/step - loss: 0.5964 - accuracy: 0.6424\n",
            "Epoch 29/81\n",
            "576/576 [==============================] - 1s 2ms/step - loss: 0.5949 - accuracy: 0.6424\n",
            "Epoch 30/81\n",
            "576/576 [==============================] - 1s 2ms/step - loss: 0.5930 - accuracy: 0.6424\n",
            "Epoch 31/81\n",
            "576/576 [==============================] - 1s 2ms/step - loss: 0.5911 - accuracy: 0.6424\n",
            "Epoch 32/81\n",
            "576/576 [==============================] - 1s 2ms/step - loss: 0.5898 - accuracy: 0.6424\n",
            "Epoch 33/81\n",
            "576/576 [==============================] - 1s 2ms/step - loss: 0.5883 - accuracy: 0.6424\n",
            "Epoch 34/81\n",
            "576/576 [==============================] - 1s 2ms/step - loss: 0.5862 - accuracy: 0.6424\n",
            "Epoch 35/81\n",
            "576/576 [==============================] - 1s 2ms/step - loss: 0.5854 - accuracy: 0.6424\n",
            "Epoch 36/81\n",
            "576/576 [==============================] - 2s 3ms/step - loss: 0.5841 - accuracy: 0.6424\n",
            "Epoch 37/81\n",
            "576/576 [==============================] - 2s 3ms/step - loss: 0.5828 - accuracy: 0.6424\n",
            "Epoch 38/81\n",
            "576/576 [==============================] - 1s 2ms/step - loss: 0.5816 - accuracy: 0.6441\n",
            "Epoch 39/81\n",
            "576/576 [==============================] - 1s 2ms/step - loss: 0.5803 - accuracy: 0.6458\n",
            "Epoch 40/81\n",
            "576/576 [==============================] - 2s 3ms/step - loss: 0.5797 - accuracy: 0.6719\n",
            "Epoch 41/81\n",
            "576/576 [==============================] - 1s 2ms/step - loss: 0.5784 - accuracy: 0.6719\n",
            "Epoch 42/81\n",
            "576/576 [==============================] - 1s 2ms/step - loss: 0.5778 - accuracy: 0.6753\n",
            "Epoch 43/81\n",
            "576/576 [==============================] - 1s 2ms/step - loss: 0.5764 - accuracy: 0.6719\n",
            "Epoch 44/81\n",
            "576/576 [==============================] - 1s 2ms/step - loss: 0.5751 - accuracy: 0.6719\n",
            "Epoch 45/81\n",
            "576/576 [==============================] - 1s 2ms/step - loss: 0.5747 - accuracy: 0.6701\n",
            "Epoch 46/81\n",
            "576/576 [==============================] - 1s 2ms/step - loss: 0.5740 - accuracy: 0.6771\n",
            "Epoch 47/81\n",
            "576/576 [==============================] - 1s 2ms/step - loss: 0.5733 - accuracy: 0.6771\n",
            "Epoch 48/81\n",
            "576/576 [==============================] - 1s 2ms/step - loss: 0.5728 - accuracy: 0.6736\n",
            "Epoch 49/81\n",
            "576/576 [==============================] - 1s 2ms/step - loss: 0.5720 - accuracy: 0.6788\n",
            "Epoch 50/81\n",
            "576/576 [==============================] - 1s 2ms/step - loss: 0.5713 - accuracy: 0.6684\n",
            "Epoch 51/81\n",
            "576/576 [==============================] - 1s 2ms/step - loss: 0.5709 - accuracy: 0.6771\n",
            "Epoch 52/81\n",
            "576/576 [==============================] - 1s 2ms/step - loss: 0.5704 - accuracy: 0.6788\n",
            "Epoch 53/81\n",
            "576/576 [==============================] - 1s 2ms/step - loss: 0.5693 - accuracy: 0.6771\n",
            "Epoch 54/81\n",
            "576/576 [==============================] - 1s 2ms/step - loss: 0.5690 - accuracy: 0.6823\n",
            "Epoch 55/81\n",
            "576/576 [==============================] - 1s 2ms/step - loss: 0.5686 - accuracy: 0.6753\n",
            "Epoch 56/81\n",
            "576/576 [==============================] - 1s 2ms/step - loss: 0.5682 - accuracy: 0.6788\n",
            "Epoch 57/81\n",
            "576/576 [==============================] - 1s 2ms/step - loss: 0.5671 - accuracy: 0.6806\n",
            "Epoch 58/81\n",
            "576/576 [==============================] - 1s 2ms/step - loss: 0.5673 - accuracy: 0.6840\n",
            "Epoch 59/81\n",
            "576/576 [==============================] - 2s 3ms/step - loss: 0.5666 - accuracy: 0.6875\n",
            "Epoch 60/81\n",
            "576/576 [==============================] - 1s 3ms/step - loss: 0.5664 - accuracy: 0.6840\n",
            "Epoch 61/81\n",
            "576/576 [==============================] - 1s 2ms/step - loss: 0.5659 - accuracy: 0.6823\n",
            "Epoch 62/81\n",
            "576/576 [==============================] - 1s 2ms/step - loss: 0.5654 - accuracy: 0.6806\n",
            "Epoch 63/81\n",
            "576/576 [==============================] - 1s 2ms/step - loss: 0.5651 - accuracy: 0.6858\n",
            "Epoch 64/81\n",
            "576/576 [==============================] - 1s 2ms/step - loss: 0.5649 - accuracy: 0.6823\n",
            "Epoch 65/81\n",
            "576/576 [==============================] - 1s 2ms/step - loss: 0.5643 - accuracy: 0.6840\n",
            "Epoch 66/81\n",
            "576/576 [==============================] - 1s 2ms/step - loss: 0.5642 - accuracy: 0.6875\n",
            "Epoch 67/81\n",
            "576/576 [==============================] - 1s 2ms/step - loss: 0.5640 - accuracy: 0.6892\n",
            "Epoch 68/81\n",
            "576/576 [==============================] - 1s 2ms/step - loss: 0.5633 - accuracy: 0.6910\n",
            "Epoch 69/81\n",
            "576/576 [==============================] - 1s 2ms/step - loss: 0.5630 - accuracy: 0.6927\n",
            "Epoch 70/81\n",
            "576/576 [==============================] - 1s 2ms/step - loss: 0.5633 - accuracy: 0.6875\n",
            "Epoch 71/81\n",
            "576/576 [==============================] - 1s 2ms/step - loss: 0.5627 - accuracy: 0.6858\n",
            "Epoch 72/81\n",
            "576/576 [==============================] - 1s 3ms/step - loss: 0.5627 - accuracy: 0.6858\n",
            "Epoch 73/81\n",
            "576/576 [==============================] - 1s 2ms/step - loss: 0.5623 - accuracy: 0.6875\n",
            "Epoch 74/81\n",
            "576/576 [==============================] - 1s 2ms/step - loss: 0.5620 - accuracy: 0.6875\n",
            "Epoch 75/81\n",
            "576/576 [==============================] - 1s 2ms/step - loss: 0.5614 - accuracy: 0.6840\n",
            "Epoch 76/81\n",
            "576/576 [==============================] - 1s 2ms/step - loss: 0.5617 - accuracy: 0.6927\n",
            "Epoch 77/81\n",
            "576/576 [==============================] - 1s 2ms/step - loss: 0.5609 - accuracy: 0.6892\n",
            "Epoch 78/81\n",
            "576/576 [==============================] - 1s 2ms/step - loss: 0.5612 - accuracy: 0.6944\n",
            "Epoch 79/81\n",
            "576/576 [==============================] - 1s 2ms/step - loss: 0.5610 - accuracy: 0.6944\n",
            "Epoch 80/81\n",
            "576/576 [==============================] - 1s 2ms/step - loss: 0.5610 - accuracy: 0.6927\n",
            "Epoch 81/81\n",
            "576/576 [==============================] - 1s 2ms/step - loss: 0.5604 - accuracy: 0.6892\n"
          ]
        },
        {
          "output_type": "execute_result",
          "data": {
            "text/plain": [
              "<keras.callbacks.History at 0x7fa03423d7f0>"
            ]
          },
          "metadata": {},
          "execution_count": 53
        }
      ]
    },
    {
      "cell_type": "markdown",
      "metadata": {
        "id": "W96Q5OLUuIAf"
      },
      "source": [
        "## Avaliando do Modelo"
      ]
    },
    {
      "cell_type": "code",
      "metadata": {
        "colab": {
          "base_uri": "https://localhost:8080/"
        },
        "id": "8tz1z7mU0dAE",
        "outputId": "e8b6e21e-064a-46d1-9fab-460d1b0b8719"
      },
      "source": [
        "y_pred = classifier.predict(X_test)\n",
        "\n",
        "print(y_test[0:50])\n",
        "print(y_pred[0:50])"
      ],
      "execution_count": 73,
      "outputs": [
        {
          "output_type": "stream",
          "name": "stdout",
          "text": [
            "6/6 [==============================] - 0s 8ms/step\n",
            "[1 0 0 1 0 0 1 1 0 0 1 1 0 0 0 0 1 0 0 0 1 1 0 0 0 0 0 0 0 0 0 0 0 0 0 1 1\n",
            " 0 0 0 0 0 0 1 1 0 0 1 1 1]\n",
            "[[0.25732946]\n",
            " [0.16957091]\n",
            " [0.21458404]\n",
            " [0.5544835 ]\n",
            " [0.23568688]\n",
            " [0.124098  ]\n",
            " [0.4421961 ]\n",
            " [0.5544835 ]\n",
            " [0.14871486]\n",
            " [0.5544835 ]\n",
            " [0.2546948 ]\n",
            " [0.5544835 ]\n",
            " [0.5544835 ]\n",
            " [0.15604843]\n",
            " [0.5544835 ]\n",
            " [0.29871348]\n",
            " [0.5138506 ]\n",
            " [0.0688894 ]\n",
            " [0.5544835 ]\n",
            " [0.34511122]\n",
            " [0.5544835 ]\n",
            " [0.23303042]\n",
            " [0.15982448]\n",
            " [0.5544835 ]\n",
            " [0.07883397]\n",
            " [0.15508404]\n",
            " [0.10507083]\n",
            " [0.5544835 ]\n",
            " [0.11227026]\n",
            " [0.22997059]\n",
            " [0.5544835 ]\n",
            " [0.20512865]\n",
            " [0.20288244]\n",
            " [0.32143226]\n",
            " [0.09454025]\n",
            " [0.5544835 ]\n",
            " [0.5544835 ]\n",
            " [0.07960623]\n",
            " [0.23307388]\n",
            " [0.23755533]\n",
            " [0.1829644 ]\n",
            " [0.23050271]\n",
            " [0.29279965]\n",
            " [0.22554748]\n",
            " [0.5544835 ]\n",
            " [0.01425168]\n",
            " [0.07960623]\n",
            " [0.1911046 ]\n",
            " [0.2479936 ]\n",
            " [0.2395003 ]]\n"
          ]
        }
      ]
    },
    {
      "cell_type": "code",
      "metadata": {
        "id": "NYqKOIMT1Drv"
      },
      "source": [
        "y_pred_bin = [ ( 1 if elem > 0.5 else 0) for elem in y_pred ] "
      ],
      "execution_count": 74,
      "outputs": []
    },
    {
      "cell_type": "code",
      "metadata": {
        "id": "Zlz1Gc0Y3QTH"
      },
      "source": [
        "import numpy as np\n",
        "\n",
        "y_pred_bin =  np.array(y_pred_bin)"
      ],
      "execution_count": 75,
      "outputs": []
    },
    {
      "cell_type": "code",
      "metadata": {
        "colab": {
          "base_uri": "https://localhost:8080/"
        },
        "id": "v022gBoD5Mvb",
        "outputId": "e081f506-d44c-49d4-8009-521711efc233"
      },
      "source": [
        "print(y_test[0:50])\n",
        "print(y_pred_bin[0:50])"
      ],
      "execution_count": 76,
      "outputs": [
        {
          "output_type": "stream",
          "name": "stdout",
          "text": [
            "[1 0 0 1 0 0 1 1 0 0 1 1 0 0 0 0 1 0 0 0 1 1 0 0 0 0 0 0 0 0 0 0 0 0 0 1 1\n",
            " 0 0 0 0 0 0 1 1 0 0 1 1 1]\n",
            "[0 0 0 1 0 0 0 1 0 1 0 1 1 0 1 0 1 0 1 0 1 0 0 1 0 0 0 1 0 0 1 0 0 0 0 1 1\n",
            " 0 0 0 0 0 0 0 1 0 0 0 0 0]\n"
          ]
        }
      ]
    },
    {
      "cell_type": "code",
      "metadata": {
        "colab": {
          "base_uri": "https://localhost:8080/"
        },
        "id": "dK63myFy5lQZ",
        "outputId": "108e834e-14da-482f-e616-e623fd1d7f71"
      },
      "source": [
        "from sklearn.metrics import accuracy_score\n",
        "\n",
        "print(\"Acurácia: \", accuracy_score(y_test,y_pred_bin)*100, \"%\"  )"
      ],
      "execution_count": 77,
      "outputs": [
        {
          "output_type": "stream",
          "name": "stdout",
          "text": [
            "Acurácia:  66.14583333333334 %\n"
          ]
        }
      ]
    },
    {
      "cell_type": "code",
      "metadata": {
        "colab": {
          "base_uri": "https://localhost:8080/"
        },
        "id": "zfg4tZYz5vaD",
        "outputId": "ac94679a-fbd6-48e4-aee1-d382d6d023da"
      },
      "source": [
        "from sklearn.metrics import confusion_matrix\n",
        "cm = confusion_matrix(y_test, y_pred_bin)\n",
        "print(\"Matrix de confusão: \")\n",
        "print(cm)\n"
      ],
      "execution_count": 78,
      "outputs": [
        {
          "output_type": "stream",
          "name": "stdout",
          "text": [
            "Matrix de confusão: \n",
            "[[98 32]\n",
            " [33 29]]\n"
          ]
        }
      ]
    },
    {
      "cell_type": "markdown",
      "metadata": {
        "id": "UTbTT7YguLvc"
      },
      "source": [
        "## Visualizando os resultados\n",
        "\n"
      ]
    },
    {
      "cell_type": "code",
      "metadata": {
        "colab": {
          "base_uri": "https://localhost:8080/",
          "height": 524
        },
        "id": "YsSkav8U9G3k",
        "outputId": "2583e185-0222-4bcf-b7e3-1fc4438fbfe8"
      },
      "source": [
        "import matplotlib.pyplot as plt\n",
        "\n",
        "# Seleção dos elementos classificados como negativos (não compra)\n",
        "age_neg = X_train[y_train == 0, 0]\n",
        "salary_neg = X_train[y_train == 0, 1]\n",
        "age_pos = X_train[y_train == 1, 0]\n",
        "salary_pos = X_train[y_train == 1, 1]\n",
        "\n",
        "plt.scatter(age_pos,salary_pos, color='red', label = 'diabetics')\n",
        "plt.scatter(age_neg,salary_neg, color='green', label = 'No diabetics')\n",
        "\n",
        "plt.title('SVM - Conjunto de Treinamento')\n",
        "plt.xlabel('age')\n",
        "plt.ylabel('BMC')\n",
        "plt.legend()\n",
        "plt.show()"
      ],
      "execution_count": 79,
      "outputs": [
        {
          "output_type": "display_data",
          "data": {
            "text/plain": [
              "<Figure size 800x550 with 1 Axes>"
            ],
            "image/png": "[encoded data removed]"
          },
          "metadata": {}
        }
      ]
    },
    {
      "cell_type": "code",
      "metadata": {
        "colab": {
          "base_uri": "https://localhost:8080/",
          "height": 519
        },
        "id": "vrEmvM529iII",
        "outputId": "b10bba5b-6f15-4227-d7f3-f332b8117275"
      },
      "source": [
        "vx = np.arange(-0.1, 1.1, 0.025) \n",
        "vy = np.arange(-0.1, 1.1, 0.025)\n",
        "X1, X2 = np.meshgrid(vx,vy) \n",
        "\n",
        "y_pred_mesh =  classifier.predict(np.array([X1.ravel(),X2.ravel()]).T ).reshape(X1.shape)\n",
        "\n",
        "from matplotlib.colors import ListedColormap\n",
        "plt.contourf(X1,X2, y_pred_mesh, alpha  = 0.5, cmap = ListedColormap(('green','red')))"
      ],
      "execution_count": 80,
      "outputs": [
        {
          "output_type": "stream",
          "name": "stdout",
          "text": [
            "76/76 [==============================] - 0s 1ms/step\n"
          ]
        },
        {
          "output_type": "execute_result",
          "data": {
            "text/plain": [
              "<matplotlib.contour.QuadContourSet at 0x7fa01f5fe850>"
            ]
          },
          "metadata": {},
          "execution_count": 80
        },
        {
          "output_type": "display_data",
          "data": {
            "text/plain": [
              "<Figure size 800x550 with 1 Axes>"
            ],
            "image/png": "[encoded data removed]"
          },
          "metadata": {}
        }
      ]
    },
    {
      "cell_type": "code",
      "source": [
        "from sklearn.metrics import accuracy_score\n",
        "\n",
        "print(\"Acurácia: \", accuracy_score(y_test,y_pred_bin)*100, \"%\"  )"
      ],
      "metadata": {
        "colab": {
          "base_uri": "https://localhost:8080/"
        },
        "id": "A3BfPuayGq4J",
        "outputId": "74f018ae-888c-4dcc-fa42-800cc30da665"
      },
      "execution_count": 71,
      "outputs": [
        {
          "output_type": "stream",
          "name": "stdout",
          "text": [
            "Acurácia:  66.14583333333334 %\n"
          ]
        }
      ]
    }
  ]
}