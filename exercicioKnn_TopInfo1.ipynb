{
  "nbformat": 4,
  "nbformat_minor": 0,
  "metadata": {
    "colab": {
      "provenance": [],
      "include_colab_link": true
    },
    "kernelspec": {
      "name": "python3",
      "display_name": "Python 3"
    }
  },
  "cells": [
    {
      "cell_type": "markdown",
      "metadata": {
        "id": "view-in-github",
        "colab_type": "text"
      },
      "source": [
        "<a href=\"https://colab.research.google.com/github/marialago/topicosInfo1/blob/main/exercicioKnn_TopInfo1.ipynb\" target=\"_parent\"><img src=\"https://colab.research.google.com/assets/colab-badge.svg\" alt=\"Open In Colab\"/></a>"
      ]
    },
    {
      "cell_type": "markdown",
      "metadata": {
        "id": "9SVeqf7vfIOh"
      },
      "source": [
        "### Carregando os Dados"
      ]
    },
    {
      "cell_type": "code",
      "source": [
        "import os\n",
        "import numpy as np\n",
        "import pandas as pd\n",
        "\n",
        "import seaborn as sns\n",
        "import plotly.express as px \n",
        "import matplotlib.pyplot as plt\n",
        "%matplotlib inline\n",
        "\n",
        "from sklearn.cluster import KMeans\n",
        "from sklearn.preprocessing import StandardScaler\n",
        "from sklearn.pipeline import Pipeline\n",
        "from sklearn.manifold import TSNE\n",
        "from sklearn.decomposition import PCA\n",
        "from sklearn.metrics import euclidean_distances\n",
        "from scipy.spatial.distance import cdist\n",
        "\n",
        "import warnings\n",
        "warnings.filterwarnings(\"ignore\")"
      ],
      "metadata": {
        "id": "jA0YsqMUf0Pe"
      },
      "execution_count": 31,
      "outputs": []
    },
    {
      "cell_type": "code",
      "metadata": {
        "colab": {
          "base_uri": "https://localhost:8080/",
          "height": 206
        },
        "id": "6-XXhg5ccX05",
        "outputId": "c4b09619-d1c1-440d-a938-7f3074091260"
      },
      "source": [
        "import pandas as pd \n",
        "dataset = pd.read_csv(\"data_by_year.csv\")\n",
        "dataset.head() \n"
      ],
      "execution_count": 22,
      "outputs": [
        {
          "output_type": "execute_result",
          "data": {
            "text/plain": [
              "   mode  year  acousticness  danceability    duration_ms    energy  \\\n",
              "0     1  1921      0.886896      0.418597  260537.166667  0.231815   \n",
              "1     1  1922      0.938592      0.482042  165469.746479  0.237815   \n",
              "2     1  1923      0.957247      0.577341  177942.362162  0.262406   \n",
              "3     1  1924      0.940200      0.549894  191046.707627  0.344347   \n",
              "4     1  1925      0.962607      0.573863  184986.924460  0.278594   \n",
              "\n",
              "   instrumentalness  liveness   loudness  speechiness       tempo   valence  \\\n",
              "0          0.344878  0.205710 -17.048667     0.073662  101.531493  0.379327   \n",
              "1          0.434195  0.240720 -19.275282     0.116655  100.884521  0.535549   \n",
              "2          0.371733  0.227462 -14.129211     0.093949  114.010730  0.625492   \n",
              "3          0.581701  0.235219 -14.231343     0.092089  120.689572  0.663725   \n",
              "4          0.418297  0.237668 -14.146414     0.111918  115.521921  0.621929   \n",
              "\n",
              "   popularity  key  \n",
              "0    0.653333    2  \n",
              "1    0.140845   10  \n",
              "2    5.389189    0  \n",
              "3    0.661017   10  \n",
              "4    2.604317    5  "
            ],
            "text/html": [
              "\n",
              "  <div id=\"df-affa7cde-db2e-4cc8-b4e1-48111a2d41aa\">\n",
              "    <div class=\"colab-df-container\">\n",
              "      <div>\n",
              "<style scoped>\n",
              "    .dataframe tbody tr th:only-of-type {\n",
              "        vertical-align: middle;\n",
              "    }\n",
              "\n",
              "    .dataframe tbody tr th {\n",
              "        vertical-align: top;\n",
              "    }\n",
              "\n",
              "    .dataframe thead th {\n",
              "        text-align: right;\n",
              "    }\n",
              "</style>\n",
              "<table border=\"1\" class=\"dataframe\">\n",
              "  <thead>\n",
              "    <tr style=\"text-align: right;\">\n",
              "      <th></th>\n",
              "      <th>mode</th>\n",
              "      <th>year</th>\n",
              "      <th>acousticness</th>\n",
              "      <th>danceability</th>\n",
              "      <th>duration_ms</th>\n",
              "      <th>energy</th>\n",
              "      <th>instrumentalness</th>\n",
              "      <th>liveness</th>\n",
              "      <th>loudness</th>\n",
              "      <th>speechiness</th>\n",
              "      <th>tempo</th>\n",
              "      <th>valence</th>\n",
              "      <th>popularity</th>\n",
              "      <th>key</th>\n",
              "    </tr>\n",
              "  </thead>\n",
              "  <tbody>\n",
              "    <tr>\n",
              "      <th>0</th>\n",
              "      <td>1</td>\n",
              "      <td>1921</td>\n",
              "      <td>0.886896</td>\n",
              "      <td>0.418597</td>\n",
              "      <td>260537.166667</td>\n",
              "      <td>0.231815</td>\n",
              "      <td>0.344878</td>\n",
              "      <td>0.205710</td>\n",
              "      <td>-17.048667</td>\n",
              "      <td>0.073662</td>\n",
              "      <td>101.531493</td>\n",
              "      <td>0.379327</td>\n",
              "      <td>0.653333</td>\n",
              "      <td>2</td>\n",
              "    </tr>\n",
              "    <tr>\n",
              "      <th>1</th>\n",
              "      <td>1</td>\n",
              "      <td>1922</td>\n",
              "      <td>0.938592</td>\n",
              "      <td>0.482042</td>\n",
              "      <td>165469.746479</td>\n",
              "      <td>0.237815</td>\n",
              "      <td>0.434195</td>\n",
              "      <td>0.240720</td>\n",
              "      <td>-19.275282</td>\n",
              "      <td>0.116655</td>\n",
              "      <td>100.884521</td>\n",
              "      <td>0.535549</td>\n",
              "      <td>0.140845</td>\n",
              "      <td>10</td>\n",
              "    </tr>\n",
              "    <tr>\n",
              "      <th>2</th>\n",
              "      <td>1</td>\n",
              "      <td>1923</td>\n",
              "      <td>0.957247</td>\n",
              "      <td>0.577341</td>\n",
              "      <td>177942.362162</td>\n",
              "      <td>0.262406</td>\n",
              "      <td>0.371733</td>\n",
              "      <td>0.227462</td>\n",
              "      <td>-14.129211</td>\n",
              "      <td>0.093949</td>\n",
              "      <td>114.010730</td>\n",
              "      <td>0.625492</td>\n",
              "      <td>5.389189</td>\n",
              "      <td>0</td>\n",
              "    </tr>\n",
              "    <tr>\n",
              "      <th>3</th>\n",
              "      <td>1</td>\n",
              "      <td>1924</td>\n",
              "      <td>0.940200</td>\n",
              "      <td>0.549894</td>\n",
              "      <td>191046.707627</td>\n",
              "      <td>0.344347</td>\n",
              "      <td>0.581701</td>\n",
              "      <td>0.235219</td>\n",
              "      <td>-14.231343</td>\n",
              "      <td>0.092089</td>\n",
              "      <td>120.689572</td>\n",
              "      <td>0.663725</td>\n",
              "      <td>0.661017</td>\n",
              "      <td>10</td>\n",
              "    </tr>\n",
              "    <tr>\n",
              "      <th>4</th>\n",
              "      <td>1</td>\n",
              "      <td>1925</td>\n",
              "      <td>0.962607</td>\n",
              "      <td>0.573863</td>\n",
              "      <td>184986.924460</td>\n",
              "      <td>0.278594</td>\n",
              "      <td>0.418297</td>\n",
              "      <td>0.237668</td>\n",
              "      <td>-14.146414</td>\n",
              "      <td>0.111918</td>\n",
              "      <td>115.521921</td>\n",
              "      <td>0.621929</td>\n",
              "      <td>2.604317</td>\n",
              "      <td>5</td>\n",
              "    </tr>\n",
              "  </tbody>\n",
              "</table>\n",
              "</div>\n",
              "      <button class=\"colab-df-convert\" onclick=\"convertToInteractive('df-affa7cde-db2e-4cc8-b4e1-48111a2d41aa')\"\n",
              "              title=\"Convert this dataframe to an interactive table.\"\n",
              "              style=\"display:none;\">\n",
              "        \n",
              "  <svg xmlns=\"http://www.w3.org/2000/svg\" height=\"24px\"viewBox=\"0 0 24 24\"\n",
              "       width=\"24px\">\n",
              "    <path d=\"M0 0h24v24H0V0z\" fill=\"none\"/>\n",
              "    <path d=\"M18.56 5.44l.94 2.06.94-2.06 2.06-.94-2.06-.94-.94-2.06-.94 2.06-2.06.94zm-11 1L8.5 8.5l.94-2.06 2.06-.94-2.06-.94L8.5 2.5l-.94 2.06-2.06.94zm10 10l.94 2.06.94-2.06 2.06-.94-2.06-.94-.94-2.06-.94 2.06-2.06.94z\"/><path d=\"M17.41 7.96l-1.37-1.37c-.4-.4-.92-.59-1.43-.59-.52 0-1.04.2-1.43.59L10.3 9.45l-7.72 7.72c-.78.78-.78 2.05 0 2.83L4 21.41c.39.39.9.59 1.41.59.51 0 1.02-.2 1.41-.59l7.78-7.78 2.81-2.81c.8-.78.8-2.07 0-2.86zM5.41 20L4 18.59l7.72-7.72 1.47 1.35L5.41 20z\"/>\n",
              "  </svg>\n",
              "      </button>\n",
              "      \n",
              "  <style>\n",
              "    .colab-df-container {\n",
              "      display:flex;\n",
              "      flex-wrap:wrap;\n",
              "      gap: 12px;\n",
              "    }\n",
              "\n",
              "    .colab-df-convert {\n",
              "      background-color: #E8F0FE;\n",
              "      border: none;\n",
              "      border-radius: 50%;\n",
              "      cursor: pointer;\n",
              "      display: none;\n",
              "      fill: #1967D2;\n",
              "      height: 32px;\n",
              "      padding: 0 0 0 0;\n",
              "      width: 32px;\n",
              "    }\n",
              "\n",
              "    .colab-df-convert:hover {\n",
              "      background-color: #E2EBFA;\n",
              "      box-shadow: 0px 1px 2px rgba(60, 64, 67, 0.3), 0px 1px 3px 1px rgba(60, 64, 67, 0.15);\n",
              "      fill: #174EA6;\n",
              "    }\n",
              "\n",
              "    [theme=dark] .colab-df-convert {\n",
              "      background-color: #3B4455;\n",
              "      fill: #D2E3FC;\n",
              "    }\n",
              "\n",
              "    [theme=dark] .colab-df-convert:hover {\n",
              "      background-color: #434B5C;\n",
              "      box-shadow: 0px 1px 3px 1px rgba(0, 0, 0, 0.15);\n",
              "      filter: drop-shadow(0px 1px 2px rgba(0, 0, 0, 0.3));\n",
              "      fill: #FFFFFF;\n",
              "    }\n",
              "  </style>\n",
              "\n",
              "      <script>\n",
              "        const buttonEl =\n",
              "          document.querySelector('#df-affa7cde-db2e-4cc8-b4e1-48111a2d41aa button.colab-df-convert');\n",
              "        buttonEl.style.display =\n",
              "          google.colab.kernel.accessAllowed ? 'block' : 'none';\n",
              "\n",
              "        async function convertToInteractive(key) {\n",
              "          const element = document.querySelector('#df-affa7cde-db2e-4cc8-b4e1-48111a2d41aa');\n",
              "          const dataTable =\n",
              "            await google.colab.kernel.invokeFunction('convertToInteractive',\n",
              "                                                     [key], {});\n",
              "          if (!dataTable) return;\n",
              "\n",
              "          const docLinkHtml = 'Like what you see? Visit the ' +\n",
              "            '<a target=\"_blank\" href=https://colab.research.google.com/notebooks/data_table.ipynb>data table notebook</a>'\n",
              "            + ' to learn more about interactive tables.';\n",
              "          element.innerHTML = '';\n",
              "          dataTable['output_type'] = 'display_data';\n",
              "          await google.colab.output.renderOutput(dataTable, element);\n",
              "          const docLink = document.createElement('div');\n",
              "          docLink.innerHTML = docLinkHtml;\n",
              "          element.appendChild(docLink);\n",
              "        }\n",
              "      </script>\n",
              "    </div>\n",
              "  </div>\n",
              "  "
            ]
          },
          "metadata": {},
          "execution_count": 22
        }
      ]
    },
    {
      "cell_type": "code",
      "metadata": {
        "colab": {
          "base_uri": "https://localhost:8080/",
          "height": 344
        },
        "id": "QHZyddmIfdRR",
        "outputId": "838ec6c7-1556-4d25-be5b-0c494c2e3207"
      },
      "source": [
        "dataset.describe()"
      ],
      "execution_count": 23,
      "outputs": [
        {
          "output_type": "execute_result",
          "data": {
            "text/plain": [
              "        mode         year  acousticness  danceability    duration_ms  \\\n",
              "count  100.0   100.000000    100.000000    100.000000     100.000000   \n",
              "mean     1.0  1970.500000      0.556317      0.536783  227296.752234   \n",
              "std      0.0    29.011492      0.275358      0.052356   25630.048065   \n",
              "min      1.0  1921.000000      0.219931      0.414445  156881.657475   \n",
              "25%      1.0  1945.750000      0.289516      0.500800  210889.193536   \n",
              "50%      1.0  1970.500000      0.459190      0.540976  235520.850833   \n",
              "75%      1.0  1995.250000      0.856711      0.570948  247702.738058   \n",
              "max      1.0  2020.000000      0.962607      0.692904  267677.823086   \n",
              "\n",
              "           energy  instrumentalness    liveness    loudness  speechiness  \\\n",
              "count  100.000000        100.000000  100.000000  100.000000   100.000000   \n",
              "mean     0.452705          0.193582    0.208224  -11.969054     0.105861   \n",
              "std      0.161738          0.122488    0.017903    3.105610     0.082128   \n",
              "min      0.207948          0.016376    0.168450  -19.275282     0.049098   \n",
              "25%      0.280733          0.103323    0.197509  -14.189232     0.064244   \n",
              "50%      0.495997          0.127644    0.206074  -11.773061     0.085763   \n",
              "75%      0.598008          0.276707    0.218493   -9.950542     0.104438   \n",
              "max      0.681778          0.581701    0.264335   -6.595067     0.490001   \n",
              "\n",
              "            tempo     valence  popularity       key  \n",
              "count  100.000000  100.000000  100.000000  100.0000  \n",
              "mean   116.015674    0.532120   27.376065    3.7900  \n",
              "std      5.669645    0.057809   20.703197    3.5627  \n",
              "min    100.884521    0.379327    0.140845    0.0000  \n",
              "25%    111.718626    0.497174    3.298200    0.0000  \n",
              "50%    117.455548    0.541503   33.619250    2.0000  \n",
              "75%    120.606644    0.570080   44.943375    7.0000  \n",
              "max    124.283129    0.663725   65.256542   10.0000  "
            ],
            "text/html": [
              "\n",
              "  <div id=\"df-579ff087-62bd-4057-8148-83c9644df83d\">\n",
              "    <div class=\"colab-df-container\">\n",
              "      <div>\n",
              "<style scoped>\n",
              "    .dataframe tbody tr th:only-of-type {\n",
              "        vertical-align: middle;\n",
              "    }\n",
              "\n",
              "    .dataframe tbody tr th {\n",
              "        vertical-align: top;\n",
              "    }\n",
              "\n",
              "    .dataframe thead th {\n",
              "        text-align: right;\n",
              "    }\n",
              "</style>\n",
              "<table border=\"1\" class=\"dataframe\">\n",
              "  <thead>\n",
              "    <tr style=\"text-align: right;\">\n",
              "      <th></th>\n",
              "      <th>mode</th>\n",
              "      <th>year</th>\n",
              "      <th>acousticness</th>\n",
              "      <th>danceability</th>\n",
              "      <th>duration_ms</th>\n",
              "      <th>energy</th>\n",
              "      <th>instrumentalness</th>\n",
              "      <th>liveness</th>\n",
              "      <th>loudness</th>\n",
              "      <th>speechiness</th>\n",
              "      <th>tempo</th>\n",
              "      <th>valence</th>\n",
              "      <th>popularity</th>\n",
              "      <th>key</th>\n",
              "    </tr>\n",
              "  </thead>\n",
              "  <tbody>\n",
              "    <tr>\n",
              "      <th>count</th>\n",
              "      <td>100.0</td>\n",
              "      <td>100.000000</td>\n",
              "      <td>100.000000</td>\n",
              "      <td>100.000000</td>\n",
              "      <td>100.000000</td>\n",
              "      <td>100.000000</td>\n",
              "      <td>100.000000</td>\n",
              "      <td>100.000000</td>\n",
              "      <td>100.000000</td>\n",
              "      <td>100.000000</td>\n",
              "      <td>100.000000</td>\n",
              "      <td>100.000000</td>\n",
              "      <td>100.000000</td>\n",
              "      <td>100.0000</td>\n",
              "    </tr>\n",
              "    <tr>\n",
              "      <th>mean</th>\n",
              "      <td>1.0</td>\n",
              "      <td>1970.500000</td>\n",
              "      <td>0.556317</td>\n",
              "      <td>0.536783</td>\n",
              "      <td>227296.752234</td>\n",
              "      <td>0.452705</td>\n",
              "      <td>0.193582</td>\n",
              "      <td>0.208224</td>\n",
              "      <td>-11.969054</td>\n",
              "      <td>0.105861</td>\n",
              "      <td>116.015674</td>\n",
              "      <td>0.532120</td>\n",
              "      <td>27.376065</td>\n",
              "      <td>3.7900</td>\n",
              "    </tr>\n",
              "    <tr>\n",
              "      <th>std</th>\n",
              "      <td>0.0</td>\n",
              "      <td>29.011492</td>\n",
              "      <td>0.275358</td>\n",
              "      <td>0.052356</td>\n",
              "      <td>25630.048065</td>\n",
              "      <td>0.161738</td>\n",
              "      <td>0.122488</td>\n",
              "      <td>0.017903</td>\n",
              "      <td>3.105610</td>\n",
              "      <td>0.082128</td>\n",
              "      <td>5.669645</td>\n",
              "      <td>0.057809</td>\n",
              "      <td>20.703197</td>\n",
              "      <td>3.5627</td>\n",
              "    </tr>\n",
              "    <tr>\n",
              "      <th>min</th>\n",
              "      <td>1.0</td>\n",
              "      <td>1921.000000</td>\n",
              "      <td>0.219931</td>\n",
              "      <td>0.414445</td>\n",
              "      <td>156881.657475</td>\n",
              "      <td>0.207948</td>\n",
              "      <td>0.016376</td>\n",
              "      <td>0.168450</td>\n",
              "      <td>-19.275282</td>\n",
              "      <td>0.049098</td>\n",
              "      <td>100.884521</td>\n",
              "      <td>0.379327</td>\n",
              "      <td>0.140845</td>\n",
              "      <td>0.0000</td>\n",
              "    </tr>\n",
              "    <tr>\n",
              "      <th>25%</th>\n",
              "      <td>1.0</td>\n",
              "      <td>1945.750000</td>\n",
              "      <td>0.289516</td>\n",
              "      <td>0.500800</td>\n",
              "      <td>210889.193536</td>\n",
              "      <td>0.280733</td>\n",
              "      <td>0.103323</td>\n",
              "      <td>0.197509</td>\n",
              "      <td>-14.189232</td>\n",
              "      <td>0.064244</td>\n",
              "      <td>111.718626</td>\n",
              "      <td>0.497174</td>\n",
              "      <td>3.298200</td>\n",
              "      <td>0.0000</td>\n",
              "    </tr>\n",
              "    <tr>\n",
              "      <th>50%</th>\n",
              "      <td>1.0</td>\n",
              "      <td>1970.500000</td>\n",
              "      <td>0.459190</td>\n",
              "      <td>0.540976</td>\n",
              "      <td>235520.850833</td>\n",
              "      <td>0.495997</td>\n",
              "      <td>0.127644</td>\n",
              "      <td>0.206074</td>\n",
              "      <td>-11.773061</td>\n",
              "      <td>0.085763</td>\n",
              "      <td>117.455548</td>\n",
              "      <td>0.541503</td>\n",
              "      <td>33.619250</td>\n",
              "      <td>2.0000</td>\n",
              "    </tr>\n",
              "    <tr>\n",
              "      <th>75%</th>\n",
              "      <td>1.0</td>\n",
              "      <td>1995.250000</td>\n",
              "      <td>0.856711</td>\n",
              "      <td>0.570948</td>\n",
              "      <td>247702.738058</td>\n",
              "      <td>0.598008</td>\n",
              "      <td>0.276707</td>\n",
              "      <td>0.218493</td>\n",
              "      <td>-9.950542</td>\n",
              "      <td>0.104438</td>\n",
              "      <td>120.606644</td>\n",
              "      <td>0.570080</td>\n",
              "      <td>44.943375</td>\n",
              "      <td>7.0000</td>\n",
              "    </tr>\n",
              "    <tr>\n",
              "      <th>max</th>\n",
              "      <td>1.0</td>\n",
              "      <td>2020.000000</td>\n",
              "      <td>0.962607</td>\n",
              "      <td>0.692904</td>\n",
              "      <td>267677.823086</td>\n",
              "      <td>0.681778</td>\n",
              "      <td>0.581701</td>\n",
              "      <td>0.264335</td>\n",
              "      <td>-6.595067</td>\n",
              "      <td>0.490001</td>\n",
              "      <td>124.283129</td>\n",
              "      <td>0.663725</td>\n",
              "      <td>65.256542</td>\n",
              "      <td>10.0000</td>\n",
              "    </tr>\n",
              "  </tbody>\n",
              "</table>\n",
              "</div>\n",
              "      <button class=\"colab-df-convert\" onclick=\"convertToInteractive('df-579ff087-62bd-4057-8148-83c9644df83d')\"\n",
              "              title=\"Convert this dataframe to an interactive table.\"\n",
              "              style=\"display:none;\">\n",
              "        \n",
              "  <svg xmlns=\"http://www.w3.org/2000/svg\" height=\"24px\"viewBox=\"0 0 24 24\"\n",
              "       width=\"24px\">\n",
              "    <path d=\"M0 0h24v24H0V0z\" fill=\"none\"/>\n",
              "    <path d=\"M18.56 5.44l.94 2.06.94-2.06 2.06-.94-2.06-.94-.94-2.06-.94 2.06-2.06.94zm-11 1L8.5 8.5l.94-2.06 2.06-.94-2.06-.94L8.5 2.5l-.94 2.06-2.06.94zm10 10l.94 2.06.94-2.06 2.06-.94-2.06-.94-.94-2.06-.94 2.06-2.06.94z\"/><path d=\"M17.41 7.96l-1.37-1.37c-.4-.4-.92-.59-1.43-.59-.52 0-1.04.2-1.43.59L10.3 9.45l-7.72 7.72c-.78.78-.78 2.05 0 2.83L4 21.41c.39.39.9.59 1.41.59.51 0 1.02-.2 1.41-.59l7.78-7.78 2.81-2.81c.8-.78.8-2.07 0-2.86zM5.41 20L4 18.59l7.72-7.72 1.47 1.35L5.41 20z\"/>\n",
              "  </svg>\n",
              "      </button>\n",
              "      \n",
              "  <style>\n",
              "    .colab-df-container {\n",
              "      display:flex;\n",
              "      flex-wrap:wrap;\n",
              "      gap: 12px;\n",
              "    }\n",
              "\n",
              "    .colab-df-convert {\n",
              "      background-color: #E8F0FE;\n",
              "      border: none;\n",
              "      border-radius: 50%;\n",
              "      cursor: pointer;\n",
              "      display: none;\n",
              "      fill: #1967D2;\n",
              "      height: 32px;\n",
              "      padding: 0 0 0 0;\n",
              "      width: 32px;\n",
              "    }\n",
              "\n",
              "    .colab-df-convert:hover {\n",
              "      background-color: #E2EBFA;\n",
              "      box-shadow: 0px 1px 2px rgba(60, 64, 67, 0.3), 0px 1px 3px 1px rgba(60, 64, 67, 0.15);\n",
              "      fill: #174EA6;\n",
              "    }\n",
              "\n",
              "    [theme=dark] .colab-df-convert {\n",
              "      background-color: #3B4455;\n",
              "      fill: #D2E3FC;\n",
              "    }\n",
              "\n",
              "    [theme=dark] .colab-df-convert:hover {\n",
              "      background-color: #434B5C;\n",
              "      box-shadow: 0px 1px 3px 1px rgba(0, 0, 0, 0.15);\n",
              "      filter: drop-shadow(0px 1px 2px rgba(0, 0, 0, 0.3));\n",
              "      fill: #FFFFFF;\n",
              "    }\n",
              "  </style>\n",
              "\n",
              "      <script>\n",
              "        const buttonEl =\n",
              "          document.querySelector('#df-579ff087-62bd-4057-8148-83c9644df83d button.colab-df-convert');\n",
              "        buttonEl.style.display =\n",
              "          google.colab.kernel.accessAllowed ? 'block' : 'none';\n",
              "\n",
              "        async function convertToInteractive(key) {\n",
              "          const element = document.querySelector('#df-579ff087-62bd-4057-8148-83c9644df83d');\n",
              "          const dataTable =\n",
              "            await google.colab.kernel.invokeFunction('convertToInteractive',\n",
              "                                                     [key], {});\n",
              "          if (!dataTable) return;\n",
              "\n",
              "          const docLinkHtml = 'Like what you see? Visit the ' +\n",
              "            '<a target=\"_blank\" href=https://colab.research.google.com/notebooks/data_table.ipynb>data table notebook</a>'\n",
              "            + ' to learn more about interactive tables.';\n",
              "          element.innerHTML = '';\n",
              "          dataTable['output_type'] = 'display_data';\n",
              "          await google.colab.output.renderOutput(dataTable, element);\n",
              "          const docLink = document.createElement('div');\n",
              "          docLink.innerHTML = docLinkHtml;\n",
              "          element.appendChild(docLink);\n",
              "        }\n",
              "      </script>\n",
              "    </div>\n",
              "  </div>\n",
              "  "
            ]
          },
          "metadata": {},
          "execution_count": 23
        }
      ]
    },
    {
      "cell_type": "code",
      "source": [
        "print(dataset.info())"
      ],
      "metadata": {
        "colab": {
          "base_uri": "https://localhost:8080/"
        },
        "id": "C-bb9RybfudM",
        "outputId": "fb0aa6d9-2bb7-4a44-d1c3-eeab484efe61"
      },
      "execution_count": 30,
      "outputs": [
        {
          "output_type": "stream",
          "name": "stdout",
          "text": [
            "<class 'pandas.core.frame.DataFrame'>\n",
            "RangeIndex: 100 entries, 0 to 99\n",
            "Data columns (total 14 columns):\n",
            " #   Column            Non-Null Count  Dtype  \n",
            "---  ------            --------------  -----  \n",
            " 0   mode              100 non-null    int64  \n",
            " 1   year              100 non-null    int64  \n",
            " 2   acousticness      100 non-null    float64\n",
            " 3   danceability      100 non-null    float64\n",
            " 4   duration_ms       100 non-null    float64\n",
            " 5   energy            100 non-null    float64\n",
            " 6   instrumentalness  100 non-null    float64\n",
            " 7   liveness          100 non-null    float64\n",
            " 8   loudness          100 non-null    float64\n",
            " 9   speechiness       100 non-null    float64\n",
            " 10  tempo             100 non-null    float64\n",
            " 11  valence           100 non-null    float64\n",
            " 12  popularity        100 non-null    float64\n",
            " 13  key               100 non-null    int64  \n",
            "dtypes: float64(11), int64(3)\n",
            "memory usage: 11.1 KB\n",
            "None\n"
          ]
        }
      ]
    },
    {
      "cell_type": "code",
      "metadata": {
        "colab": {
          "base_uri": "https://localhost:8080/"
        },
        "id": "cc5E1jOfflyu",
        "outputId": "30f73100-9d20-4e7a-efc9-2501f3192b67"
      },
      "source": [
        "X = dataset.iloc[:,[3,4]].values \n",
        "print(X[0:6,:]) "
      ],
      "execution_count": 25,
      "outputs": [
        {
          "output_type": "stream",
          "name": "stdout",
          "text": [
            "[[4.18597333e-01 2.60537167e+05]\n",
            " [4.82042254e-01 1.65469746e+05]\n",
            " [5.77340541e-01 1.77942362e+05]\n",
            " [5.49894068e-01 1.91046708e+05]\n",
            " [5.73863309e-01 1.84986924e+05]\n",
            " [5.99880261e-01 1.56881657e+05]]\n"
          ]
        }
      ]
    },
    {
      "cell_type": "markdown",
      "metadata": {
        "id": "d3AmR5PSfxpl"
      },
      "source": [
        "### Treinamento"
      ]
    },
    {
      "cell_type": "code",
      "metadata": {
        "id": "4JRzPAcUfu3m"
      },
      "source": [
        "from sklearn.cluster import KMeans \n",
        "\n",
        "kmeans = KMeans(n_clusters=6, init = 'random', random_state = 1)\n",
        "y_kmeans = kmeans.fit_predict(X)\n"
      ],
      "execution_count": 26,
      "outputs": []
    },
    {
      "cell_type": "code",
      "source": [],
      "metadata": {
        "id": "C0aKttklfJP7"
      },
      "execution_count": null,
      "outputs": []
    },
    {
      "cell_type": "markdown",
      "metadata": {
        "id": "Ip8T3ns4gL3W"
      },
      "source": [
        "### Visualização do Treinamento"
      ]
    },
    {
      "cell_type": "code",
      "metadata": {
        "colab": {
          "base_uri": "https://localhost:8080/",
          "height": 447
        },
        "id": "e801FyjigGSG",
        "outputId": "17f91f79-0c6e-44ea-c5c5-b8c043dd59b9"
      },
      "source": [
        "import matplotlib.pyplot as plt\n",
        "\n",
        "plt.scatter(X[:,0],X[:,1])"
      ],
      "execution_count": 27,
      "outputs": [
        {
          "output_type": "execute_result",
          "data": {
            "text/plain": [
              "<matplotlib.collections.PathCollection at 0x7fce4de91850>"
            ]
          },
          "metadata": {},
          "execution_count": 27
        },
        {
          "output_type": "display_data",
          "data": {
            "text/plain": [
              "<Figure size 640x480 with 1 Axes>"
            ],
            "image/png": "[encoded data removed]"
          },
          "metadata": {}
        }
      ]
    },
    {
      "cell_type": "code",
      "metadata": {
        "colab": {
          "base_uri": "https://localhost:8080/",
          "height": 447
        },
        "id": "rJd5O6xdgSm0",
        "outputId": "406a5021-4e39-4394-febf-1bf1af41f380"
      },
      "source": [
        "plt.scatter(X[y_kmeans == 0,0],X[y_kmeans == 0,1])"
      ],
      "execution_count": 28,
      "outputs": [
        {
          "output_type": "execute_result",
          "data": {
            "text/plain": [
              "<matplotlib.collections.PathCollection at 0x7fce51e5ec40>"
            ]
          },
          "metadata": {},
          "execution_count": 28
        },
        {
          "output_type": "display_data",
          "data": {
            "text/plain": [
              "<Figure size 640x480 with 1 Axes>"
            ],
            "image/png": "[encoded data removed]"
          },
          "metadata": {}
        }
      ]
    },
    {
      "cell_type": "code",
      "metadata": {
        "colab": {
          "base_uri": "https://localhost:8080/",
          "height": 472
        },
        "id": "ADNcgrJvKcX8",
        "outputId": "44e07eeb-de52-430a-fc85-3ca76551c5cf"
      },
      "source": [
        "plt.scatter(X[y_kmeans == 0,0],X[y_kmeans == 0,1], c = 'red', label = 'Cluster 0')\n",
        "plt.scatter(X[y_kmeans == 1,0],X[y_kmeans == 1,1], c = 'blue', label = 'Cluster 1')\n",
        "plt.scatter(X[y_kmeans == 2,0],X[y_kmeans == 2,1], c = 'green', label = 'Cluster 2')\n",
        "plt.scatter(X[y_kmeans == 3,0],X[y_kmeans == 3,1], c = 'cyan', label = 'Cluster 3')\n",
        "plt.scatter(X[y_kmeans == 4,0],X[y_kmeans == 4,1], c = 'magenta', label = 'Cluster 4')\n",
        "plt.scatter(X[y_kmeans == 5,0],X[y_kmeans == 5,1], c = 'black', label = 'Cluster 5')\n",
        "plt.scatter(kmeans.cluster_centers_[:,0],kmeans.cluster_centers_[:,1], s=200, c='yellow' )\n",
        "plt.title(\"Agrupamento de Clientes\")\n",
        "plt.xlabel(\"Renda Anual (k$)\")\n",
        "plt.ylabel(\"Pontuação de compra (1-100)\")\n",
        "plt.legend()\n",
        "plt.show() "
      ],
      "execution_count": 29,
      "outputs": [
        {
          "output_type": "display_data",
          "data": {
            "text/plain": [
              "<Figure size 640x480 with 1 Axes>"
            ],
            "image/png": "[encoded data removed]"
          },
          "metadata": {}
        }
      ]
    },
    {
      "cell_type": "code",
      "source": [
        "\n",
        "\n"
      ],
      "metadata": {
        "id": "H6Ei9EGCWPPh"
      },
      "execution_count": 5,
      "outputs": []
    }
  ]
}